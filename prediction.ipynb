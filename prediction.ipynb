{
 "cells": [
  {
   "cell_type": "code",
   "execution_count": 1,
   "metadata": {},
   "outputs": [],
   "source": [
    "import pickle\n",
    "from tensorflow.keras.models import load_model\n"
   ]
  },
  {
   "cell_type": "code",
   "execution_count": 2,
   "metadata": {},
   "outputs": [
    {
     "name": "stderr",
     "output_type": "stream",
     "text": [
      "c:\\Users\\sanya\\OneDrive\\Desktop\\Python2GenAI\\.venv\\Lib\\site-packages\\keras\\src\\saving\\saving_lib.py:719: UserWarning: Skipping variable loading for optimizer 'rmsprop', because it has 10 variables whereas the saved optimizer has 18 variables. \n",
      "  saveable.load_own_variables(weights_store.get(inner_path))\n"
     ]
    }
   ],
   "source": [
    "model = load_model(\"model.keras\")"
   ]
  },
  {
   "cell_type": "code",
   "execution_count": 3,
   "metadata": {},
   "outputs": [],
   "source": [
    "# load Label encoder and scaler\n",
    "\n",
    "with open(\"scaler.pkl\" , \"rb\") as f:\n",
    "    scaler = pickle.load(file=f)\n",
    "\n",
    "with open(\"encoders.pkl\" , \"rb\") as f:\n",
    "    encoders = pickle.load(file=f)\n"
   ]
  },
  {
   "cell_type": "code",
   "execution_count": 32,
   "metadata": {},
   "outputs": [
    {
     "name": "stdout",
     "output_type": "stream",
     "text": [
      "\u001b[1m1/1\u001b[0m \u001b[32m━━━━━━━━━━━━━━━━━━━━\u001b[0m\u001b[37m\u001b[0m \u001b[1m0s\u001b[0m 19ms/step\n",
      "Prediction: Not Exited\n"
     ]
    },
    {
     "name": "stderr",
     "output_type": "stream",
     "text": [
      "c:\\Users\\sanya\\OneDrive\\Desktop\\Python2GenAI\\.venv\\Lib\\site-packages\\sklearn\\base.py:493: UserWarning: X does not have valid feature names, but StandardScaler was fitted with feature names\n",
      "  warnings.warn(\n"
     ]
    }
   ],
   "source": [
    "# Take a random row from dataframe assuming we need to perform prediction on that\n",
    "import pandas as pd\n",
    "import random\n",
    "import numpy as np\n",
    "\n",
    "\n",
    "df = pd.read_csv(\"dataset/Churn_Modelling.csv\")\n",
    "\n",
    "# Also remove Exited column \n",
    "df.drop(columns=['RowNumber' , \"CustomerId\", \"Surname\"] , inplace=True)\n",
    "\n",
    "\n",
    "random_row = df.iloc[random.randint(0 ,len(df)-1)].drop(\"Exited\")\n",
    "\n",
    "random_row['Geography'] = encoders['Geography'].transform(random_row[['Geography']])\n",
    "random_row['Gender'] = encoders['Gender'].transform(random_row[['Gender']])\n",
    "random_row = scaler.transform([random_row])\n",
    "\n",
    "# Make a prediction with the model\n",
    "prediction = model.predict(random_row)\n",
    "prediction = np.where(prediction > 0.5 , 1 , 0)\n",
    "\n",
    "print(\"Prediction:\", \"Exited\" if prediction[0][0] == 1 else \"Not Exited\")"
   ]
  },
  {
   "cell_type": "code",
   "execution_count": null,
   "metadata": {},
   "outputs": [],
   "source": []
  },
  {
   "cell_type": "code",
   "execution_count": null,
   "metadata": {},
   "outputs": [],
   "source": []
  },
  {
   "cell_type": "code",
   "execution_count": null,
   "metadata": {},
   "outputs": [],
   "source": []
  }
 ],
 "metadata": {
  "kernelspec": {
   "display_name": ".venv",
   "language": "python",
   "name": "python3"
  },
  "language_info": {
   "codemirror_mode": {
    "name": "ipython",
    "version": 3
   },
   "file_extension": ".py",
   "mimetype": "text/x-python",
   "name": "python",
   "nbconvert_exporter": "python",
   "pygments_lexer": "ipython3",
   "version": "3.12.5"
  }
 },
 "nbformat": 4,
 "nbformat_minor": 2
}
